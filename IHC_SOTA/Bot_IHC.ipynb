{
  "cells": [
    {
      "cell_type": "code",
      "execution_count": null,
      "metadata": {
        "colab": {
          "base_uri": "https://localhost:8080/"
        },
        "id": "eJABi8XeimJb",
        "outputId": "810df6be-700d-4941-c2fa-81f5f927c8ad"
      },
      "outputs": [
        {
          "name": "stdout",
          "output_type": "stream",
          "text": [
            "Collecting pytelegrambotapi\n",
            "  Downloading pytelegrambotapi-4.19.0-py3-none-any.whl (244 kB)\n",
            "\u001b[2K     \u001b[90m━━━━━━━━━━━━━━━━━━━━━━━━━━━━━━━━━━━━━━━━\u001b[0m \u001b[32m245.0/245.0 kB\u001b[0m \u001b[31m1.6 MB/s\u001b[0m eta \u001b[36m0:00:00\u001b[0m\n",
            "\u001b[?25hRequirement already satisfied: requests in /usr/local/lib/python3.10/dist-packages (from pytelegrambotapi) (2.31.0)\n",
            "Requirement already satisfied: charset-normalizer<4,>=2 in /usr/local/lib/python3.10/dist-packages (from requests->pytelegrambotapi) (3.3.2)\n",
            "Requirement already satisfied: idna<4,>=2.5 in /usr/local/lib/python3.10/dist-packages (from requests->pytelegrambotapi) (3.7)\n",
            "Requirement already satisfied: urllib3<3,>=1.21.1 in /usr/local/lib/python3.10/dist-packages (from requests->pytelegrambotapi) (2.0.7)\n",
            "Requirement already satisfied: certifi>=2017.4.17 in /usr/local/lib/python3.10/dist-packages (from requests->pytelegrambotapi) (2024.6.2)\n",
            "Installing collected packages: pytelegrambotapi\n",
            "Successfully installed pytelegrambotapi-4.19.0\n",
            "Requirement already satisfied: geopy in /usr/local/lib/python3.10/dist-packages (2.3.0)\n",
            "Requirement already satisfied: geographiclib<3,>=1.52 in /usr/local/lib/python3.10/dist-packages (from geopy) (2.0)\n",
            "Requirement already satisfied: transformers in /usr/local/lib/python3.10/dist-packages (4.41.2)\n",
            "Requirement already satisfied: filelock in /usr/local/lib/python3.10/dist-packages (from transformers) (3.14.0)\n",
            "Requirement already satisfied: huggingface-hub<1.0,>=0.23.0 in /usr/local/lib/python3.10/dist-packages (from transformers) (0.23.2)\n",
            "Requirement already satisfied: numpy>=1.17 in /usr/local/lib/python3.10/dist-packages (from transformers) (1.25.2)\n",
            "Requirement already satisfied: packaging>=20.0 in /usr/local/lib/python3.10/dist-packages (from transformers) (24.0)\n",
            "Requirement already satisfied: pyyaml>=5.1 in /usr/local/lib/python3.10/dist-packages (from transformers) (6.0.1)\n",
            "Requirement already satisfied: regex!=2019.12.17 in /usr/local/lib/python3.10/dist-packages (from transformers) (2024.5.15)\n",
            "Requirement already satisfied: requests in /usr/local/lib/python3.10/dist-packages (from transformers) (2.31.0)\n",
            "Requirement already satisfied: tokenizers<0.20,>=0.19 in /usr/local/lib/python3.10/dist-packages (from transformers) (0.19.1)\n",
            "Requirement already satisfied: safetensors>=0.4.1 in /usr/local/lib/python3.10/dist-packages (from transformers) (0.4.3)\n",
            "Requirement already satisfied: tqdm>=4.27 in /usr/local/lib/python3.10/dist-packages (from transformers) (4.66.4)\n",
            "Requirement already satisfied: fsspec>=2023.5.0 in /usr/local/lib/python3.10/dist-packages (from huggingface-hub<1.0,>=0.23.0->transformers) (2023.6.0)\n",
            "Requirement already satisfied: typing-extensions>=3.7.4.3 in /usr/local/lib/python3.10/dist-packages (from huggingface-hub<1.0,>=0.23.0->transformers) (4.12.1)\n",
            "Requirement already satisfied: charset-normalizer<4,>=2 in /usr/local/lib/python3.10/dist-packages (from requests->transformers) (3.3.2)\n",
            "Requirement already satisfied: idna<4,>=2.5 in /usr/local/lib/python3.10/dist-packages (from requests->transformers) (3.7)\n",
            "Requirement already satisfied: urllib3<3,>=1.21.1 in /usr/local/lib/python3.10/dist-packages (from requests->transformers) (2.0.7)\n",
            "Requirement already satisfied: certifi>=2017.4.17 in /usr/local/lib/python3.10/dist-packages (from requests->transformers) (2024.6.2)\n"
          ]
        }
      ],
      "source": [
        "!pip install pytelegrambotapi\n",
        "!pip install geopy\n",
        "!pip install transformers"
      ]
    },
    {
      "cell_type": "code",
      "execution_count": null,
      "metadata": {
        "colab": {
          "background_save": true
        },
        "id": "a5cVvm1HisFJ"
      },
      "outputs": [],
      "source": [
        "import telebot\n",
        "#import re\n",
        "from transformers import pipeline\n",
        "from telebot import types\n",
        "from geopy.geocoders import Nominatim"
      ]
    },
    {
      "cell_type": "code",
      "execution_count": null,
      "metadata": {
        "id": "bY5AZwTYzWTb"
      },
      "outputs": [],
      "source": [
        "pedido = {\n",
        "    \"pizzas\": [],\n",
        "    \"bebidas\": [],\n",
        "    \"endereco\": None,\n",
        "    \"valor\": 0\n",
        "}\n",
        "\n",
        "# Bebidas são uma lista, pois todas terão o mesmo preço\n",
        "bebidas_disponiveis = [\n",
        "      \"Refresh Cola - Cola\",\n",
        "      \"Fizz Fusion - Guaraná\",\n",
        "      \"Citrus Snap - Limão\",\n",
        "      \"Orange Twist - Laranja\"\n",
        "]\n",
        "\n",
        "pizzas_disponiveis = {\n",
        "    \"Calabresa\": 49.99,\n",
        "    \"Margherita\": 44.75,\n",
        "    \"Portuguesa\": 44.99,\n",
        "    \"Frango com Catupiry\": 47.99,\n",
        "    \"Calzone\": 52.25,\n",
        "    \"Peperoni\": 43.25,\n",
        "    \"Mussarela\": 44.25,\n",
        "    \"Strogonoff\": 44.99,\n",
        "    \"Chocolate\": 44.99\n",
        "}\n",
        "\n",
        "geolocator = Nominatim(user_agent=\"PizzaPlanet\")"
      ]
    },
    {
      "cell_type": "code",
      "execution_count": null,
      "metadata": {
        "colab": {
          "background_save": true
        },
        "id": "wdLvF6TEivVz"
      },
      "outputs": [],
      "source": [
        "API_TOKEN = 'your-token'\n",
        "bot = telebot.TeleBot(API_TOKEN)"
      ]
    },
    {
      "cell_type": "code",
      "execution_count": null,
      "metadata": {
        "id": "q4FazBUAiwU-"
      },
      "outputs": [],
      "source": [
        "#pipe = pipeline(\"text-classification\")\n",
        "classifier = pipeline(\"zero-shot-classification\", model=\"facebook/bart-large-mnli\")\n",
        "\n",
        "intencoes = [\"pizza\", \"bebida\", \"endereco\", \"cardapio\", \"encerrar\"]\n",
        "\n",
        "def identificar_intencao(texto):\n",
        "    scores = classifier(texto, intencoes)\n",
        "    return scores['labels'][0]\n",
        "\n",
        "def identificar_pizza(texto):\n",
        "    scores = classifier(texto, list(pizzas_disponiveis.keys()))\n",
        "    return scores['labels'][0]\n",
        "\n",
        "def identificar_bebida(texto):\n",
        "    scores = classifier(texto, bebidas_disponiveis)\n",
        "    return scores['labels'][0]\n",
        "\n",
        "def buscar_menu():\n",
        "    texto_opcoes = \"Temos as seguintes opções:\\nPizzas:\\n\"\n",
        "    for nome, preco in pizzas_disponiveis.items():\n",
        "        texto_opcoes += f\"{nome} - R${round(preco, 2)}\\n\"\n",
        "    texto_opcoes += f\"\\nBebidas: \\n\"\n",
        "    for nome in bebidas_disponiveis:\n",
        "        texto_opcoes += f\"{nome} - R$ 12.99\\n\"\n",
        "    texto_opcoes += \"\\n O que você deseja?\"\n",
        "    return texto_opcoes\n",
        "\n",
        "def buscar_pedido():\n",
        "    texto = \"Este é o seu pedido: \\n\"\n",
        "    texto += f\"\\nPizzas: {', '.join(pedido['pizzas'])}\\n\"\n",
        "    texto += f\"\\nBebidas: {', '.join(pedido['bebidas'])}\\n\"\n",
        "    texto += f\"\\nEndereço: {pedido['endereco']}\\n\"\n",
        "    texto += f\"\\nValor: R${round(pedido['valor'],2)}\"\n",
        "    return texto\n",
        "\n",
        "def solicitar_localizacao(message):\n",
        "    markup = types.ReplyKeyboardMarkup(one_time_keyboard=True, resize_keyboard=True)\n",
        "    botao_localizacao = types.KeyboardButton('Enviar Localização', request_location=True)\n",
        "    markup.add(botao_localizacao)\n",
        "    bot.send_message(message.chat.id, \"Por favor, envie sua localização para entrega.\", reply_markup=markup)\n"
      ]
    },
    {
      "cell_type": "code",
      "execution_count": null,
      "metadata": {
        "id": "rYg6nslO5gsz"
      },
      "outputs": [],
      "source": [
        "@bot.message_handler(commands=['start', 'restart'])\n",
        "def iniciar_pedido(message):\n",
        "    global pedido\n",
        "    pedido = {\n",
        "        \"pizzas\": [],\n",
        "        \"bebidas\": [],\n",
        "        \"endereco\": None,\n",
        "        \"valor\": 0\n",
        "    }\n",
        "    bot.send_message(message.chat.id, \"Olá! Bem-vindo ao Pizza Planet! Deseja pedir uma pizza?\")\n",
        "    texto = buscar_menu()\n",
        "    bot.send_message(message.chat.id, texto)\n",
        "\n",
        "@bot.message_handler(func=lambda message: True)\n",
        "def responder_msg(message):\n",
        "  if message.text:\n",
        "    mensagem = message.text\n",
        "    intencao = identificar_intencao(mensagem)\n",
        "    if intencao == \"pizza\":\n",
        "        pizza = identificar_pizza(mensagem)\n",
        "        pedido[\"pizzas\"].append(pizza)\n",
        "        pedido[\"valor\"] += pizzas_disponiveis[pizza]\n",
        "        texto = f\"Entendido, adicionei uma pizza de {pizza} no seu pedido\"\n",
        "        bot.send_message(message.chat.id, texto)\n",
        "    elif intencao == \"bebida\":\n",
        "        bebida = identificar_bebida(mensagem)\n",
        "        pedido[\"bebidas\"].append(bebida)\n",
        "        pedido[\"valor\"] += 12.99\n",
        "        texto = f\"Entendido, adicionei {bebida} no seu pedido\"\n",
        "        bot.send_message(message.chat.id, texto)\n",
        "    elif intencao == \"endereco\":\n",
        "        solicitar_localizacao(message)\n",
        "    elif intencao == \"cardapio\":\n",
        "      texto = buscar_menu()\n",
        "      bot.send_message(message.chat.id, texto)\n",
        "    elif intencao == \"encerrar\":\n",
        "      if pedido[\"endereco\"] != None:\n",
        "        pedido_cliente = buscar_pedido()\n",
        "        texto = f\"Certo, seu pedido foi enviado para o preparo: \\n{pedido_cliente}\"\n",
        "        texto += f\"\\nTempo de preparação: 30-40 minutos\\nTempo de entrega: 20-30 minutos\\n Obrigado e volte sempre!\"\n",
        "        bot.send_message(message.chat.id, texto)\n",
        "      else:\n",
        "        solicitar_localizacao(message)\n",
        "  else:\n",
        "    bot.send_message(message.chat.id, \"Desculpe, não entendi seu pedido\")\n",
        "\n",
        "@bot.message_handler(content_types=['location'])\n",
        "def receber_localizacao(message):\n",
        "    if message.location is not None:\n",
        "        latitude = message.location.latitude\n",
        "        longitude = message.location.longitude\n",
        "        location = geolocator.reverse(f\"{latitude}, {longitude}\", language=\"pt\")\n",
        "        endereco = location.raw['address']\n",
        "\n",
        "        filtro = ['road', 'house_number', 'suburb', 'city', 'postcode']\n",
        "        campos = [endereco.get(field, '') for field in filtro]\n",
        "\n",
        "        endereco_reduzido = ', '.join(filter(None, campos))\n",
        "        pedido[\"endereco\"] = f\"{endereco_reduzido}\"\n",
        "        texto = f\"Recebi sua localização: {pedido['endereco']}\"\n",
        "        bot.send_message(message.chat.id, texto)\n"
      ]
    },
    {
      "cell_type": "code",
      "execution_count": null,
      "metadata": {
        "id": "fWZzQnmyjBh_"
      },
      "outputs": [],
      "source": [
        "#bot.infinity.polling()\n",
        "bot.polling()\n"
      ]
    }
  ],
  "metadata": {
    "colab": {
      "provenance": []
    },
    "kernelspec": {
      "display_name": "Python 3",
      "name": "python3"
    },
    "language_info": {
      "name": "python"
    }
  },
  "nbformat": 4,
  "nbformat_minor": 0
}